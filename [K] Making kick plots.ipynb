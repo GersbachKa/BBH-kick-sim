{
 "cells": [
  {
   "cell_type": "code",
   "execution_count": 35,
   "id": "78b2a6f8",
   "metadata": {},
   "outputs": [
    {
     "name": "stdout",
     "output_type": "stream",
     "text": [
      "The autoreload extension is already loaded. To reload it, use:\n",
      "  %reload_ext autoreload\n"
     ]
    }
   ],
   "source": [
    "%matplotlib inline\n",
    "%config InlineBackend.figure_format = 'retina'\n",
    "\n",
    "%load_ext autoreload\n",
    "%autoreload 2\n",
    "\n",
    "import numpy as np\n",
    "from matplotlib import pyplot as plt\n",
    "import scipy\n",
    "from scipy import interpolate \n",
    "import healpy as hp\n",
    "from tqdm import tqdm\n",
    "\n",
    "import sympy\n",
    "\n",
    "import surfinBH"
   ]
  },
  {
   "cell_type": "code",
   "execution_count": 4,
   "id": "45ab0c80",
   "metadata": {},
   "outputs": [
    {
     "name": "stdout",
     "output_type": "stream",
     "text": [
      "Loaded NRSur7dq4Remnant fit.\n"
     ]
    }
   ],
   "source": [
    "fit = surfinBH.LoadFits('NRSur7dq4Remnant')"
   ]
  },
  {
   "cell_type": "code",
   "execution_count": 26,
   "id": "f7c3941d",
   "metadata": {},
   "outputs": [],
   "source": [
    "m1 = 10\n",
    "m2 = 10\n",
    "q = m1/m2\n",
    "\n",
    "nside=2\n",
    "xyz = 0.5*np.array(hp.pix2vec(nside,np.arange(0,hp.nside2npix(nside)))).T"
   ]
  },
  {
   "cell_type": "code",
   "execution_count": 39,
   "id": "553be477",
   "metadata": {},
   "outputs": [
    {
     "name": "stderr",
     "output_type": "stream",
     "text": [
      "100%|███████████████████████████████████████████| 48/48 [00:04<00:00, 10.47it/s]\n"
     ]
    },
    {
     "data": {
      "text/plain": [
       "(48, 48)"
      ]
     },
     "execution_count": 39,
     "metadata": {},
     "output_type": "execute_result"
    }
   ],
   "source": [
    "c = 3e5 #km/s\n",
    "vals = []\n",
    "for i in tqdm(range(len(xyz)),ncols=80):\n",
    "    x1 = xyz[i]\n",
    "    v = []\n",
    "    for j in range(len(xyz)):\n",
    "        x2 = xyz[j]\n",
    "        v1,_ = fit.vf(q,x1,x2)\n",
    "        v1*=c\n",
    "        v.append(np.sqrt(np.sum(np.square(v1))))\n",
    "    vals.append(v)\n",
    "vals = np.array(vals)\n",
    "vals.shape"
   ]
  },
  {
   "cell_type": "code",
   "execution_count": 42,
   "id": "6fdcee11",
   "metadata": {},
   "outputs": [
    {
     "data": {
      "text/plain": [
       "2.4404382039359693"
      ]
     },
     "execution_count": 42,
     "metadata": {},
     "output_type": "execute_result"
    }
   ],
   "source": [
    "np.min(vals)"
   ]
  }
 ],
 "metadata": {
  "kernelspec": {
   "display_name": "Python [conda env:astro8020]",
   "language": "python",
   "name": "conda-env-astro8020-py"
  },
  "language_info": {
   "codemirror_mode": {
    "name": "ipython",
    "version": 3
   },
   "file_extension": ".py",
   "mimetype": "text/x-python",
   "name": "python",
   "nbconvert_exporter": "python",
   "pygments_lexer": "ipython3",
   "version": "3.10.6"
  }
 },
 "nbformat": 4,
 "nbformat_minor": 5
}

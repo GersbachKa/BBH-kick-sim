{
 "cells": [
  {
   "cell_type": "code",
   "execution_count": 1,
   "id": "65b12037",
   "metadata": {},
   "outputs": [],
   "source": [
    "%matplotlib inline\n",
    "%config InlineBackend.figure_format = 'retina'\n",
    "\n",
    "%load_ext autoreload\n",
    "%autoreload 2\n",
    "\n",
    "import numpy as np\n",
    "from matplotlib import pyplot as plt\n",
    "import scipy\n",
    "from scipy import interpolate \n",
    "\n",
    "import sympy\n",
    "\n",
    "import surfinBH"
   ]
  },
  {
   "cell_type": "markdown",
   "id": "a79501d2",
   "metadata": {},
   "source": [
    "## Testing surfinBH"
   ]
  },
  {
   "cell_type": "code",
   "execution_count": 2,
   "id": "07b9ff09",
   "metadata": {},
   "outputs": [
    {
     "name": "stdout",
     "output_type": "stream",
     "text": [
      "['NRSur3dq8Remnant', 'surfinBH7dq2', 'NRSur7dq4Remnant']\n"
     ]
    },
    {
     "data": {
      "text/plain": [
       "['Fits for remnant mass, spin and kick veclocity for nonprecessing BBH systems. This model was called surfinBH3dq8 in the paper.',\n",
       " 'Fits for remnant mass, spin and kick veclocity for generically precessing BBH systems.',\n",
       " 'Fits for remnant mass, spin and kick veclocity for generically precessing BBH systems up to mass ratio 4.']"
      ]
     },
     "execution_count": 2,
     "metadata": {},
     "output_type": "execute_result"
    }
   ],
   "source": [
    "#Pick the fit\n",
    "fitOpt = list(surfinBH.fits_collection.keys())\n",
    "print(fitOpt)\n",
    "\n",
    "[surfinBH.fits_collection[fit].desc for fit in fitOpt]"
   ]
  },
  {
   "cell_type": "code",
   "execution_count": 3,
   "id": "e97fcf08",
   "metadata": {},
   "outputs": [
    {
     "name": "stdout",
     "output_type": "stream",
     "text": [
      "Loaded NRSur7dq4Remnant fit.\n",
      "Help on Fit7dq4 in module surfinBH._fit_evaluators.fit_7dq4 object:\n",
      "\n",
      "class Fit7dq4(surfinBH.surfinBH.SurFinBH)\n",
      " |  Fit7dq4(name, load_nrsur=False)\n",
      " |  \n",
      " |  A class for the NRSur7dq4Remnant model presented in Varma et al.,\n",
      " |  arxiv:1905.09300, hereafter referred to as THE PAPER.\n",
      " |  \n",
      " |  This model predicts the final mass mf, final spin vector\n",
      " |  chif and final kick velocity vector vf, for the remnants of precessing\n",
      " |  binary black hole systems.  The fits are done using Gaussian Process\n",
      " |  Regression (GPR) and also provide an error estimate along with the fit\n",
      " |  value.\n",
      " |  \n",
      " |  This model has been trained in the parameter space:\n",
      " |      q <= 4, |chiA| <= 0.8, |chiB| <= 0.8\n",
      " |  \n",
      " |  However, it extrapolates reasonably to:\n",
      " |      q <= 6, |chiA| <= 1, |chiB| <= 1\n",
      " |  \n",
      " |  =========================================================================\n",
      " |  Usage:\n",
      " |  \n",
      " |  import surfinBH\n",
      " |  \n",
      " |  # Load the fit\n",
      " |  fit = surfinBH.LoadFits('NRSur7dq4Remnant')\n",
      " |  \n",
      " |  We provide the following call methods:\n",
      " |      # remnant mass and 1-sigma error estimate\n",
      " |      mf, mf_err = fit.mf(q, chiA, chiB, **kwargs)\n",
      " |  \n",
      " |      # remnant spin and 1-sigma error estimate\n",
      " |      chif, chif_err = fit.chif(q, chiA, chiB, **kwargs)\n",
      " |  \n",
      " |      # remnant recoil kick and 1-sigma error estimate (units of c)\n",
      " |      vf, vf_err = fit.vf(q, chiA, chiB, **kwargs)\n",
      " |  \n",
      " |      # All of these together\n",
      " |      mf, chif, vf, mf_err, chif_err, vf_err\n",
      " |          = fit.all(q, chiA, chiB, **kwargs)\n",
      " |  \n",
      " |  The arguments for each of these call methods are as follows:\n",
      " |  Arguments:\n",
      " |      q:      Mass ratio (q = mA/mB >= 1)\n",
      " |  \n",
      " |      chiA:  Dimensionless spin vector of the heavier black hole at\n",
      " |              reference epoch.\n",
      " |      chiB:  Dimensionless spin vector of the lighter black hole at\n",
      " |              reference epoch.\n",
      " |  \n",
      " |              This follows the same convention as LAL, where the spin\n",
      " |              components are defined as:\n",
      " |              \\chi_z = \\chi \\cdot \\hat{L}, where L is the orbital angular\n",
      " |                  momentum vector at the epoch.\n",
      " |              \\chi_x = \\chi \\cdot \\hat{n}, where n = body2 -> body1 is the\n",
      " |                  separation vector at the epoch. body1 is the heavier body.\n",
      " |              \\chi_y = \\chi \\cdot \\hat{L \\cross n}.\n",
      " |              These spin components are frame-independent as they are defined\n",
      " |              using vector inner products. This is equivalent to specifying\n",
      " |              the spins in the coorbital frame at the reference epoch. See\n",
      " |              THE PAPER for a definition of the coorbital frame.\n",
      " |  \n",
      " |  \n",
      " |  Optional arguments:\n",
      " |  \n",
      " |      omega0: Orbital frequency used to set the reference epoch.\n",
      " |              Default: None.\n",
      " |  \n",
      " |              If omega0 is None, the reference epoch is assumed to be at\n",
      " |              t=-100 M from the peak of the waveform, see THE PAPER for\n",
      " |              definition of the peak.\n",
      " |  \n",
      " |              If 'omega0' is given, the reference epoch is take to be the\n",
      " |              time at which the orbital frequency in the coprecessing frame\n",
      " |              equals omega0. omega0 should be in dimensionless units of\n",
      " |              rad/M, where M is the total mass.\n",
      " |  \n",
      " |              See THE PAPER for how the orbital frequency is\n",
      " |              computed as well as the definition of the coprecessing frame.\n",
      " |  \n",
      " |      allow_extrap:\n",
      " |          If False, raises a warning when q > 4.1 or |chiA|,|chiB| > 0.81,\n",
      " |              and raises an error when q > 6.1 or |chiA|,|chiB| > 1.\n",
      " |          If True, allows extrapolation to any q and |chiA|,|chiB| <= 1.\n",
      " |              Use at your own risk.\n",
      " |          Default: False.\n",
      " |  \n",
      " |  Optional PN evolution arguments:\n",
      " |  \n",
      " |      If the omega0 option is used, the spins need to be evolved from omega0\n",
      " |      until t=-100M, where the fits will be evaluated. For the late inspiral\n",
      " |      part, we use the internal spin evolution of NRSur7dq4 (also described\n",
      " |      in THE PAPER), which is very accurate. However, this surrogate is not\n",
      " |      long enough for small values of omega0 as it only has data starting at\n",
      " |      t=-4300M. Therefore, whenever the input omega0 is smaller than\n",
      " |      omega_switch_IG (defined below), we use PN evolution to go from omega0\n",
      " |      to about t=-4300M, beyond which we use NRSur7dq4 for spin evolution.\n",
      " |  \n",
      " |      PN_approximant:\n",
      " |          Approximant used to do the PN spin evolution. Choose from\n",
      " |          'SpinTaylorT4', 'SpinTaylorT1' or 'SpinTaylorT5'.\n",
      " |          Default: 'SpinTaylorT4'.\n",
      " |  \n",
      " |      PN_dt:\n",
      " |          Dimensionless time step size in units of M, used for the PN\n",
      " |          evolution. You may need to increase this if omega0 is very low.\n",
      " |          Default: 0.1\n",
      " |  \n",
      " |      PN_spin_order:\n",
      " |          Twice the PN order of spin effects. E.g., use 7 for 3.5PN.\n",
      " |          Default: 6\n",
      " |  \n",
      " |      PN_phase_order:\n",
      " |          Twice the PN order in phase. E.g., use 7 for 3.5PN.\n",
      " |          Default: 7\n",
      " |  \n",
      " |      t_sur_switch:\n",
      " |          The dimensionless time (from the peak) at which we switch from PN\n",
      " |          to the surrogate. Should be something larger than -4300.\n",
      " |          Default: -4000.\n",
      " |  \n",
      " |      omega_switch_IG:\n",
      " |          Initial guess for dimensionless orbital frequency, using which the\n",
      " |          switch will be made from PN to NRSur7dq4. This should be large\n",
      " |          enough to work for generic parts of the surrogate parameter space.\n",
      " |          You may need to increase this if the NRSur7dq4 model raises an\n",
      " |          exception like: \"Got omega_ref=0.03 < 0.031=omega_0, too small!\"\n",
      " |          Default: 0.03\n",
      " |  \n",
      " |          How t_sur_switch and omega_switch_IG work: The PN data is first\n",
      " |          generated starting at omega0, then the PN spins at omega_switch_IG\n",
      " |          are used to generate the NRSur7dq4 dynamics. NRSur7dq4 integrate\n",
      " |          the dynamics both forwards and backwards, so it will have omega and\n",
      " |          spins as a time series starting from -4300M. This is used to pick\n",
      " |          the omega0_sur and spins at t_sur_switch. Then the surrogate\n",
      " |          is reevaluated using omega0_sur and spins at t_sur_switch, thus\n",
      " |          ensuring that the switch always happens at t_sur_switch, even if\n",
      " |          omega_switch_IG corresponds to a later time.\n",
      " |  \n",
      " |  Inertial frame for returned values:\n",
      " |  \n",
      " |      The returned chif/vf are in the LAL inertial frame defined as follows:\n",
      " |          The +ve z-axis is along the orbital angular momentum at the\n",
      " |          reference epoch. The separation vector from the lighter BH to the\n",
      " |          heavier BH at the reference epoch is along the +ve x-axis. The\n",
      " |          y-axis completes the right-handed triad.\n",
      " |  \n",
      " |          Note that the default reference epoch corresponds to t=-100M, but\n",
      " |          if omega0 is given the reference epoch is taken to be the time at\n",
      " |          which the orbital frequency in the coprecessing frame is equal to\n",
      " |          omega0. This agrees with the LAL convention. See LIGO DCC document\n",
      " |          T1800226 for the LAL frame diagram.\n",
      " |  \n",
      " |  Method resolution order:\n",
      " |      Fit7dq4\n",
      " |      surfinBH.surfinBH.SurFinBH\n",
      " |      builtins.object\n",
      " |  \n",
      " |  Methods defined here:\n",
      " |  \n",
      " |  __init__(self, name, load_nrsur=False)\n",
      " |      name: Name of the fit excluding the surfinBH prefix. Ex: 7dq2.\n",
      " |      soft_param_lims: param limits beyond which to raise a warning.\n",
      " |      hard_param_lims: param limits beyond which to raise an error.\n",
      " |      aligned_spin_only: raise an error if given precessing spins.\n",
      " |      See _fit_evaluators.fit_7dq2.py for an example.\n",
      " |  \n",
      " |  ----------------------------------------------------------------------\n",
      " |  Methods inherited from surfinBH.surfinBH.SurFinBH:\n",
      " |  \n",
      " |  all(self, *args, **kwargs)\n",
      " |      Evaluates fit and 1-sigma error estimate for remnant mass, spin\n",
      " |      and kick velocity.\n",
      " |      Returns:\n",
      " |          mf, chif, vf, mf_err_est, chif_err_est, vf_err_est\n",
      " |      \n",
      " |      chif, vf, chif_err_est and vf_err_est are arrays of size 3.\n",
      " |  \n",
      " |  chif(self, *args, **kwargs)\n",
      " |      Evaluates fit and 1-sigma error estimate for remnant spin.\n",
      " |      Returns:\n",
      " |          chif, chif_err_est\n",
      " |      \n",
      " |      chif and chif_err_est are arrays of size 3.\n",
      " |  \n",
      " |  mf(self, *args, **kwargs)\n",
      " |      Evaluates fit and 1-sigma error estimate for remnant mass.\n",
      " |      Returns:\n",
      " |          mf, mf_err_est\n",
      " |  \n",
      " |  vf(self, *args, **kwargs)\n",
      " |      Evaluates fit and 1-sigma error estimate for remnant kick velocity.\n",
      " |      Returns:\n",
      " |          vf, vf_err_est\n",
      " |      \n",
      " |      vf and vf_err_est are arrays of size 3.\n",
      " |  \n",
      " |  ----------------------------------------------------------------------\n",
      " |  Data descriptors inherited from surfinBH.surfinBH.SurFinBH:\n",
      " |  \n",
      " |  __dict__\n",
      " |      dictionary for instance variables (if defined)\n",
      " |  \n",
      " |  __weakref__\n",
      " |      list of weak references to the object (if defined)\n",
      "\n"
     ]
    }
   ],
   "source": [
    "fit = surfinBH.LoadFits('NRSur7dq4Remnant')\n",
    "help(fit)"
   ]
  },
  {
   "cell_type": "code",
   "execution_count": 4,
   "id": "f5032354",
   "metadata": {},
   "outputs": [
    {
     "name": "stdout",
     "output_type": "stream",
     "text": [
      "Final Mass: 0.9497928379066933\n",
      "Final Spin: [0.28586015 0.04535385 0.70762916]\n",
      "Final Velocity: [-9.39668527e-05 -2.12472083e-05 -2.87053238e-05]\n"
     ]
    }
   ],
   "source": [
    "q = 1\n",
    "chiA = [0.8,0,0]\n",
    "chiB = [0.8,0,0]\n",
    "mf,chif,vf,_,_,_ = fit.all(1,chiA,chiB)\n",
    "print(f'Final Mass: {mf}')\n",
    "print(f'Final Spin: {chif}')\n",
    "print(f'Final Velocity: {vf}')"
   ]
  },
  {
   "cell_type": "code",
   "execution_count": 5,
   "id": "dbe797ad",
   "metadata": {},
   "outputs": [
    {
     "data": {
      "text/plain": [
       "array([5, 3, 2, 1])"
      ]
     },
     "execution_count": 5,
     "metadata": {},
     "output_type": "execute_result"
    }
   ],
   "source": [
    "np.sort([1,2,5,3])[::-1]"
   ]
  },
  {
   "cell_type": "markdown",
   "id": "56094395",
   "metadata": {},
   "source": [
    "## Turning a PDF into an easy to sample random variable transform\n",
    "#### Inverse transform sampling"
   ]
  },
  {
   "cell_type": "code",
   "execution_count": 7,
   "id": "fea71210",
   "metadata": {},
   "outputs": [
    {
     "data": {
      "image/png": "[encoded data removed]",
      "text/plain": [
       "<Figure size 640x480 with 1 Axes>"
      ]
     },
     "metadata": {
      "image/png": {
       "height": 413,
       "width": 556
      }
     },
     "output_type": "display_data"
    }
   ],
   "source": [
    "import numpy as np\n",
    "from matplotlib import pyplot as plt\n",
    "import sympy\n",
    "\n",
    "m = sympy.Symbol('m')\n",
    "p = sympy.Symbol('p')\n",
    "func = m**(-1.25)\n",
    "norm = sympy.integrate(func, (m, 5, 50))\n",
    "pdf = (1/norm)*m**(-1.25)\n",
    "\n",
    "\n",
    "cdf = sympy.integrate(pdf,(m,5,m))\n",
    "\n",
    "quantile = sympy.solvers.solve(cdf-p,m)\n",
    "\n",
    "#pdf = sympy.lambdify(m,pdf)\n",
    "#cdf = sympy.lambdify(m,cdf)\n",
    "quantile = sympy.lambdify(p,quantile)\n",
    "\n",
    "plt.plot(np.linspace(5,50,1000),pdf(np.linspace(5,50,1000)))\n",
    "\n",
    "u = np.random.random(100000)\n",
    "mdist = quantile(u)\n",
    "plt.hist(mdist,bins=50,density=True)\n",
    "plt.show()"
   ]
  },
  {
   "cell_type": "code",
   "execution_count": 35,
   "id": "8a2c2f0a",
   "metadata": {},
   "outputs": [
    {
     "name": "stdout",
     "output_type": "stream",
     "text": [
      "5.079896318680909\n"
     ]
    }
   ],
   "source": [
    "m = sympy.Symbol('m',positive=True)\n",
    "p = sympy.Symbol('p',positive=True)\n",
    "\n",
    "func = m**(-(1.35))\n",
    "\n",
    "norm = sympy.integrate(func, (m, 5, 50))\n",
    "        \n",
    "pdf = (1/norm)*m**(-(1.35))\n",
    "\n",
    "cdf = sympy.integrate(pdf,(m,5,m))\n",
    "\n",
    "        \n",
    "quantile = sympy.solve(cdf-p,m)\n",
    "try:\n",
    "    quantile = sympy.lambdify(p,quantile[0])\n",
    "except:\n",
    "    quantile = sympy.lambdify(p,quantile)\n",
    "print(quantile(0.01))"
   ]
  },
  {
   "cell_type": "markdown",
   "id": "9a9efcf0",
   "metadata": {},
   "source": [
    "## Black hole object making!"
   ]
  },
  {
   "cell_type": "code",
   "execution_count": 108,
   "id": "5c3a3914",
   "metadata": {},
   "outputs": [
    {
     "name": "stdout",
     "output_type": "stream",
     "text": [
      "{'a': 0, 'b': 0, 'c': 0}\n"
     ]
    }
   ],
   "source": [
    "test = {'a':0,'b':0}\n",
    "allkeys = ['a','b','c','d']\n",
    "[k for k in allkeys if k not in test.keys()]\n",
    "test.update({'c':0})\n",
    "print(test)"
   ]
  },
  {
   "cell_type": "code",
   "execution_count": 36,
   "id": "932e0a61",
   "metadata": {},
   "outputs": [],
   "source": [
    "import sys\n",
    "sys.path.append('.')\n",
    "from BBH_kick_sim import Simulator"
   ]
  },
  {
   "cell_type": "code",
   "execution_count": 105,
   "id": "b30a14fd",
   "metadata": {
    "scrolled": true
   },
   "outputs": [
    {
     "name": "stdout",
     "output_type": "stream",
     "text": [
      "'cluster_radius' not set, defaulting to 1000000.0\n",
      "'imf_alpha' not set, defaulting to 2.25\n",
      "'min_bh_star' not set, defaulting to 10\n",
      "'bh_mass_frac' not set, defaulting to 0.5\n",
      "'min_star' not set, defaulting to 0.8\n",
      "'max_star' not set, defaulting to 100\n",
      "'sbh_fitter' not set, defaulting to NRSur7dq4Remnant\n",
      "'vel_thresh' not set, defaulting to 1\n",
      "Setting up analytic mass distribution. This may take a while depending on your imf alpha\n",
      "Done\n",
      "Loaded NRSur7dq4Remnant fit.\n",
      "Setup complete, Globular Cluster now has 14321 black holes.\n"
     ]
    }
   ],
   "source": [
    "params = {'cluster_mass':1e6}\n",
    "test = Simulator.Simulator(params)"
   ]
  },
  {
   "cell_type": "code",
   "execution_count": 106,
   "id": "03ff8924",
   "metadata": {},
   "outputs": [
    {
     "name": "stdout",
     "output_type": "stream",
     "text": [
      "No stop time specified, Running until 1 or 0 black holes remain\n",
      "13321/14321 remaining\n",
      "12321/14321 remaining\n",
      "11321/14321 remaining\n",
      "10321/14321 remaining\n",
      "9321/14321 remaining\n",
      "8321/14321 remaining\n",
      "7321/14321 remaining\n",
      "6321/14321 remaining\n",
      "5321/14321 remaining\n",
      "4321/14321 remaining\n",
      "3321/14321 remaining\n",
      "2321/14321 remaining\n",
      "1321/14321 remaining\n",
      "321/14321 remaining\n",
      "Finished. Total Simulation time: 99.99999492855956\n",
      "Total CPU time: 5.389098882675171\n"
     ]
    }
   ],
   "source": [
    "test.begin_sim()"
   ]
  }
 ],
 "metadata": {
  "kernelspec": {
   "display_name": "Python [conda env:astro8020]",
   "language": "python",
   "name": "conda-env-astro8020-py"
  },
  "language_info": {
   "codemirror_mode": {
    "name": "ipython",
    "version": 3
   },
   "file_extension": ".py",
   "mimetype": "text/x-python",
   "name": "python",
   "nbconvert_exporter": "python",
   "pygments_lexer": "ipython3",
   "version": "3.10.6"
  }
 },
 "nbformat": 4,
 "nbformat_minor": 5
}

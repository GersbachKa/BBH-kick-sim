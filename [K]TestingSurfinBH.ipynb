{
 "cells": [
  {
   "cell_type": "code",
   "execution_count": 1,
   "id": "65b12037",
   "metadata": {},
   "outputs": [],
   "source": [
    "%matplotlib inline\n",
    "%config InlineBackend.figure_format = 'retina'\n",
    "\n",
    "%load_ext autoreload\n",
    "%autoreload 2\n",
    "\n",
    "import numpy as np\n",
    "from matplotlib import pyplot as plt\n",
    "import scipy\n",
    "from scipy import interpolate \n",
    "\n",
    "import sympy\n",
    "\n",
    "import surfinBH"
   ]
  },
  {
   "cell_type": "markdown",
   "id": "a79501d2",
   "metadata": {},
   "source": [
    "## Testing surfinBH"
   ]
  },
  {
   "cell_type": "code",
   "execution_count": 2,
   "id": "07b9ff09",
   "metadata": {},
   "outputs": [
    {
     "name": "stdout",
     "output_type": "stream",
     "text": [
      "['NRSur3dq8Remnant', 'surfinBH7dq2', 'NRSur7dq4Remnant']\n"
     ]
    },
    {
     "data": {
      "text/plain": [
       "['Fits for remnant mass, spin and kick veclocity for nonprecessing BBH systems. This model was called surfinBH3dq8 in the paper.',\n",
       " 'Fits for remnant mass, spin and kick veclocity for generically precessing BBH systems.',\n",
       " 'Fits for remnant mass, spin and kick veclocity for generically precessing BBH systems up to mass ratio 4.']"
      ]
     },
     "execution_count": 2,
     "metadata": {},
     "output_type": "execute_result"
    }
   ],
   "source": [
    "#Pick the fit\n",
    "fitOpt = list(surfinBH.fits_collection.keys())\n",
    "print(fitOpt)\n",
    "\n",
    "[surfinBH.fits_collection[fit].desc for fit in fitOpt]"
   ]
  },
  {
   "cell_type": "code",
   "execution_count": 3,
   "id": "e97fcf08",
   "metadata": {},
   "outputs": [
    {
     "name": "stdout",
     "output_type": "stream",
     "text": [
      "Loaded NRSur7dq4Remnant fit.\n",
      "Help on Fit7dq4 in module surfinBH._fit_evaluators.fit_7dq4 object:\n",
      "\n",
      "class Fit7dq4(surfinBH.surfinBH.SurFinBH)\n",
      " |  Fit7dq4(name, load_nrsur=False)\n",
      " |  \n",
      " |  A class for the NRSur7dq4Remnant model presented in Varma et al.,\n",
      " |  arxiv:1905.09300, hereafter referred to as THE PAPER.\n",
      " |  \n",
      " |  This model predicts the final mass mf, final spin vector\n",
      " |  chif and final kick velocity vector vf, for the remnants of precessing\n",
      " |  binary black hole systems.  The fits are done using Gaussian Process\n",
      " |  Regression (GPR) and also provide an error estimate along with the fit\n",
      " |  value.\n",
      " |  \n",
      " |  This model has been trained in the parameter space:\n",
      " |      q <= 4, |chiA| <= 0.8, |chiB| <= 0.8\n",
      " |  \n",
      " |  However, it extrapolates reasonably to:\n",
      " |      q <= 6, |chiA| <= 1, |chiB| <= 1\n",
      " |  \n",
      " |  =========================================================================\n",
      " |  Usage:\n",
      " |  \n",
      " |  import surfinBH\n",
      " |  \n",
      " |  # Load the fit\n",
      " |  fit = surfinBH.LoadFits('NRSur7dq4Remnant')\n",
      " |  \n",
      " |  We provide the following call methods:\n",
      " |      # remnant mass and 1-sigma error estimate\n",
      " |      mf, mf_err = fit.mf(q, chiA, chiB, **kwargs)\n",
      " |  \n",
      " |      # remnant spin and 1-sigma error estimate\n",
      " |      chif, chif_err = fit.chif(q, chiA, chiB, **kwargs)\n",
      " |  \n",
      " |      # remnant recoil kick and 1-sigma error estimate (units of c)\n",
      " |      vf, vf_err = fit.vf(q, chiA, chiB, **kwargs)\n",
      " |  \n",
      " |      # All of these together\n",
      " |      mf, chif, vf, mf_err, chif_err, vf_err\n",
      " |          = fit.all(q, chiA, chiB, **kwargs)\n",
      " |  \n",
      " |  The arguments for each of these call methods are as follows:\n",
      " |  Arguments:\n",
      " |      q:      Mass ratio (q = mA/mB >= 1)\n",
      " |  \n",
      " |      chiA:  Dimensionless spin vector of the heavier black hole at\n",
      " |              reference epoch.\n",
      " |      chiB:  Dimensionless spin vector of the lighter black hole at\n",
      " |              reference epoch.\n",
      " |  \n",
      " |              This follows the same convention as LAL, where the spin\n",
      " |              components are defined as:\n",
      " |              \\chi_z = \\chi \\cdot \\hat{L}, where L is the orbital angular\n",
      " |                  momentum vector at the epoch.\n",
      " |              \\chi_x = \\chi \\cdot \\hat{n}, where n = body2 -> body1 is the\n",
      " |                  separation vector at the epoch. body1 is the heavier body.\n",
      " |              \\chi_y = \\chi \\cdot \\hat{L \\cross n}.\n",
      " |              These spin components are frame-independent as they are defined\n",
      " |              using vector inner products. This is equivalent to specifying\n",
      " |              the spins in the coorbital frame at the reference epoch. See\n",
      " |              THE PAPER for a definition of the coorbital frame.\n",
      " |  \n",
      " |  \n",
      " |  Optional arguments:\n",
      " |  \n",
      " |      omega0: Orbital frequency used to set the reference epoch.\n",
      " |              Default: None.\n",
      " |  \n",
      " |              If omega0 is None, the reference epoch is assumed to be at\n",
      " |              t=-100 M from the peak of the waveform, see THE PAPER for\n",
      " |              definition of the peak.\n",
      " |  \n",
      " |              If 'omega0' is given, the reference epoch is take to be the\n",
      " |              time at which the orbital frequency in the coprecessing frame\n",
      " |              equals omega0. omega0 should be in dimensionless units of\n",
      " |              rad/M, where M is the total mass.\n",
      " |  \n",
      " |              See THE PAPER for how the orbital frequency is\n",
      " |              computed as well as the definition of the coprecessing frame.\n",
      " |  \n",
      " |      allow_extrap:\n",
      " |          If False, raises a warning when q > 4.1 or |chiA|,|chiB| > 0.81,\n",
      " |              and raises an error when q > 6.1 or |chiA|,|chiB| > 1.\n",
      " |          If True, allows extrapolation to any q and |chiA|,|chiB| <= 1.\n",
      " |              Use at your own risk.\n",
      " |          Default: False.\n",
      " |  \n",
      " |  Optional PN evolution arguments:\n",
      " |  \n",
      " |      If the omega0 option is used, the spins need to be evolved from omega0\n",
      " |      until t=-100M, where the fits will be evaluated. For the late inspiral\n",
      " |      part, we use the internal spin evolution of NRSur7dq4 (also described\n",
      " |      in THE PAPER), which is very accurate. However, this surrogate is not\n",
      " |      long enough for small values of omega0 as it only has data starting at\n",
      " |      t=-4300M. Therefore, whenever the input omega0 is smaller than\n",
      " |      omega_switch_IG (defined below), we use PN evolution to go from omega0\n",
      " |      to about t=-4300M, beyond which we use NRSur7dq4 for spin evolution.\n",
      " |  \n",
      " |      PN_approximant:\n",
      " |          Approximant used to do the PN spin evolution. Choose from\n",
      " |          'SpinTaylorT4', 'SpinTaylorT1' or 'SpinTaylorT5'.\n",
      " |          Default: 'SpinTaylorT4'.\n",
      " |  \n",
      " |      PN_dt:\n",
      " |          Dimensionless time step size in units of M, used for the PN\n",
      " |          evolution. You may need to increase this if omega0 is very low.\n",
      " |          Default: 0.1\n",
      " |  \n",
      " |      PN_spin_order:\n",
      " |          Twice the PN order of spin effects. E.g., use 7 for 3.5PN.\n",
      " |          Default: 6\n",
      " |  \n",
      " |      PN_phase_order:\n",
      " |          Twice the PN order in phase. E.g., use 7 for 3.5PN.\n",
      " |          Default: 7\n",
      " |  \n",
      " |      t_sur_switch:\n",
      " |          The dimensionless time (from the peak) at which we switch from PN\n",
      " |          to the surrogate. Should be something larger than -4300.\n",
      " |          Default: -4000.\n",
      " |  \n",
      " |      omega_switch_IG:\n",
      " |          Initial guess for dimensionless orbital frequency, using which the\n",
      " |          switch will be made from PN to NRSur7dq4. This should be large\n",
      " |          enough to work for generic parts of the surrogate parameter space.\n",
      " |          You may need to increase this if the NRSur7dq4 model raises an\n",
      " |          exception like: \"Got omega_ref=0.03 < 0.031=omega_0, too small!\"\n",
      " |          Default: 0.03\n",
      " |  \n",
      " |          How t_sur_switch and omega_switch_IG work: The PN data is first\n",
      " |          generated starting at omega0, then the PN spins at omega_switch_IG\n",
      " |          are used to generate the NRSur7dq4 dynamics. NRSur7dq4 integrate\n",
      " |          the dynamics both forwards and backwards, so it will have omega and\n",
      " |          spins as a time series starting from -4300M. This is used to pick\n",
      " |          the omega0_sur and spins at t_sur_switch. Then the surrogate\n",
      " |          is reevaluated using omega0_sur and spins at t_sur_switch, thus\n",
      " |          ensuring that the switch always happens at t_sur_switch, even if\n",
      " |          omega_switch_IG corresponds to a later time.\n",
      " |  \n",
      " |  Inertial frame for returned values:\n",
      " |  \n",
      " |      The returned chif/vf are in the LAL inertial frame defined as follows:\n",
      " |          The +ve z-axis is along the orbital angular momentum at the\n",
      " |          reference epoch. The separation vector from the lighter BH to the\n",
      " |          heavier BH at the reference epoch is along the +ve x-axis. The\n",
      " |          y-axis completes the right-handed triad.\n",
      " |  \n",
      " |          Note that the default reference epoch corresponds to t=-100M, but\n",
      " |          if omega0 is given the reference epoch is taken to be the time at\n",
      " |          which the orbital frequency in the coprecessing frame is equal to\n",
      " |          omega0. This agrees with the LAL convention. See LIGO DCC document\n",
      " |          T1800226 for the LAL frame diagram.\n",
      " |  \n",
      " |  Method resolution order:\n",
      " |      Fit7dq4\n",
      " |      surfinBH.surfinBH.SurFinBH\n",
      " |      builtins.object\n",
      " |  \n",
      " |  Methods defined here:\n",
      " |  \n",
      " |  __init__(self, name, load_nrsur=False)\n",
      " |      name: Name of the fit excluding the surfinBH prefix. Ex: 7dq2.\n",
      " |      soft_param_lims: param limits beyond which to raise a warning.\n",
      " |      hard_param_lims: param limits beyond which to raise an error.\n",
      " |      aligned_spin_only: raise an error if given precessing spins.\n",
      " |      See _fit_evaluators.fit_7dq2.py for an example.\n",
      " |  \n",
      " |  ----------------------------------------------------------------------\n",
      " |  Methods inherited from surfinBH.surfinBH.SurFinBH:\n",
      " |  \n",
      " |  all(self, *args, **kwargs)\n",
      " |      Evaluates fit and 1-sigma error estimate for remnant mass, spin\n",
      " |      and kick velocity.\n",
      " |      Returns:\n",
      " |          mf, chif, vf, mf_err_est, chif_err_est, vf_err_est\n",
      " |      \n",
      " |      chif, vf, chif_err_est and vf_err_est are arrays of size 3.\n",
      " |  \n",
      " |  chif(self, *args, **kwargs)\n",
      " |      Evaluates fit and 1-sigma error estimate for remnant spin.\n",
      " |      Returns:\n",
      " |          chif, chif_err_est\n",
      " |      \n",
      " |      chif and chif_err_est are arrays of size 3.\n",
      " |  \n",
      " |  mf(self, *args, **kwargs)\n",
      " |      Evaluates fit and 1-sigma error estimate for remnant mass.\n",
      " |      Returns:\n",
      " |          mf, mf_err_est\n",
      " |  \n",
      " |  vf(self, *args, **kwargs)\n",
      " |      Evaluates fit and 1-sigma error estimate for remnant kick velocity.\n",
      " |      Returns:\n",
      " |          vf, vf_err_est\n",
      " |      \n",
      " |      vf and vf_err_est are arrays of size 3.\n",
      " |  \n",
      " |  ----------------------------------------------------------------------\n",
      " |  Data descriptors inherited from surfinBH.surfinBH.SurFinBH:\n",
      " |  \n",
      " |  __dict__\n",
      " |      dictionary for instance variables (if defined)\n",
      " |  \n",
      " |  __weakref__\n",
      " |      list of weak references to the object (if defined)\n",
      "\n"
     ]
    }
   ],
   "source": [
    "fit = surfinBH.LoadFits('NRSur7dq4Remnant')\n",
    "help(fit)"
   ]
  },
  {
   "cell_type": "code",
   "execution_count": 148,
   "id": "3e77ab2c",
   "metadata": {},
   "outputs": [
    {
     "name": "stdout",
     "output_type": "stream",
     "text": [
      "Downloading NRSur3dq8Remnant data\n",
      "Loaded NRSur3dq8Remnant fit.\n",
      "Help on Fit3dq8 in module surfinBH._fit_evaluators.fit_3dq8 object:\n",
      "\n",
      "class Fit3dq8(surfinBH.surfinBH.SurFinBH)\n",
      " |  Fit3dq8(name)\n",
      " |  \n",
      " |  A class for the NRSur3dq8Remnant model presented in Varma et al.,\n",
      " |  arxiv:1809.09125. This model is referred to as surfinBH3dq8 in the paper.\n",
      " |  \n",
      " |  This model predicts the final mass mf, final\n",
      " |  spin chif and final kick velocity vf, for the remnants of nonprecessing\n",
      " |  binary black hole systems. The fits are done using Gaussian Process\n",
      " |  Regression (GPR) and also provide an error estimate along with the fit\n",
      " |  value.\n",
      " |  \n",
      " |  This model has been trained in the parameter space:\n",
      " |      q <= 8, |chiAz| <= 0.8, |chiBz| <= 0.8\n",
      " |  \n",
      " |  However, it extrapolates reasonably to:\n",
      " |      q <= 10, |chiAz| <= 1, |chiBz| <= 1\n",
      " |  \n",
      " |  =========================================================================\n",
      " |  Usage:\n",
      " |  \n",
      " |  import surfinBH\n",
      " |  \n",
      " |  # Load the fit\n",
      " |  fit = surfinBH.LoadFits('NRSur3dq8Remnant')\n",
      " |  \n",
      " |  We provide the following call methods:\n",
      " |      # remnant mass and 1-sigma error estimate\n",
      " |      mf, mf_err = fit.mf(q, chiA, chiB, **kwargs)\n",
      " |  \n",
      " |      # remnant spin and 1-sigma error estimate\n",
      " |      chif, chif_err = fit.chif(q, chiA, chiB, **kwargs)\n",
      " |  \n",
      " |      # remnant recoil kick and 1-sigma error estimate\n",
      " |      vf, vf_err = fit.vf(q, chiA, chiB, **kwargs)\n",
      " |  \n",
      " |      # All of these together\n",
      " |      mf, chif, vf, mf_err, chif_err, vf_err\n",
      " |          = fit.all(q, chiA, chiB, **kwargs)\n",
      " |  \n",
      " |  The arguments for each of these call methods are as follows:\n",
      " |  Arguments:\n",
      " |      q:      Mass ratio (q>=1)\n",
      " |  \n",
      " |      chiA:   Dimensionless spin of the larger BH (array of size 3).\n",
      " |  \n",
      " |      chiB:   Dimensionless spin of the smaller BH (array of size 3).\n",
      " |              This model allows only nonprecessing spins, so only the\n",
      " |              z-components of these arrays should be non-zero.\n",
      " |  \n",
      " |  Optional arguments:\n",
      " |      allow_extrap:\n",
      " |          If False, raises a warning when q > 8.1 or |chiA|,|chiB| > 0.81,\n",
      " |              and raises an error when q > 10.1 or |chiA|,|chiB| > 1.\n",
      " |          If True, allows extrapolation to any q and |chiA|,|chiB| <= 1.\n",
      " |              Use at your own risk.\n",
      " |          Default: False.\n",
      " |  \n",
      " |  The spin and kick vectors are defined in the coorbital frame at t=-100 M\n",
      " |  from the peak of the waveform. This frame is defined as:\n",
      " |  The z-axis is along the orbital angular momentum direction of the binary.\n",
      " |  The x-axis is along the line of separation from the smaller BH to\n",
      " |      the larger BH at this time.\n",
      " |  The y-axis completes the triad.\n",
      " |  We obtain this frame from the waveform as defined in arxiv:1705.07089.\n",
      " |  \n",
      " |  Method resolution order:\n",
      " |      Fit3dq8\n",
      " |      surfinBH.surfinBH.SurFinBH\n",
      " |      builtins.object\n",
      " |  \n",
      " |  Methods defined here:\n",
      " |  \n",
      " |  __init__(self, name)\n",
      " |      name: Name of the fit excluding the surfinBH prefix. Ex: 7dq2.\n",
      " |      soft_param_lims: param limits beyond which to raise a warning.\n",
      " |      hard_param_lims: param limits beyond which to raise an error.\n",
      " |      aligned_spin_only: raise an error if given precessing spins.\n",
      " |      See _fit_evaluators.fit_7dq2.py for an example.\n",
      " |  \n",
      " |  ----------------------------------------------------------------------\n",
      " |  Methods inherited from surfinBH.surfinBH.SurFinBH:\n",
      " |  \n",
      " |  all(self, *args, **kwargs)\n",
      " |      Evaluates fit and 1-sigma error estimate for remnant mass, spin\n",
      " |      and kick velocity.\n",
      " |      Returns:\n",
      " |          mf, chif, vf, mf_err_est, chif_err_est, vf_err_est\n",
      " |      \n",
      " |      chif, vf, chif_err_est and vf_err_est are arrays of size 3.\n",
      " |  \n",
      " |  chif(self, *args, **kwargs)\n",
      " |      Evaluates fit and 1-sigma error estimate for remnant spin.\n",
      " |      Returns:\n",
      " |          chif, chif_err_est\n",
      " |      \n",
      " |      chif and chif_err_est are arrays of size 3.\n",
      " |  \n",
      " |  mf(self, *args, **kwargs)\n",
      " |      Evaluates fit and 1-sigma error estimate for remnant mass.\n",
      " |      Returns:\n",
      " |          mf, mf_err_est\n",
      " |  \n",
      " |  vf(self, *args, **kwargs)\n",
      " |      Evaluates fit and 1-sigma error estimate for remnant kick velocity.\n",
      " |      Returns:\n",
      " |          vf, vf_err_est\n",
      " |      \n",
      " |      vf and vf_err_est are arrays of size 3.\n",
      " |  \n",
      " |  ----------------------------------------------------------------------\n",
      " |  Data descriptors inherited from surfinBH.surfinBH.SurFinBH:\n",
      " |  \n",
      " |  __dict__\n",
      " |      dictionary for instance variables (if defined)\n",
      " |  \n",
      " |  __weakref__\n",
      " |      list of weak references to the object (if defined)\n",
      "\n"
     ]
    }
   ],
   "source": [
    "fit = surfinBH.LoadFits('NRSur3dq8Remnant')\n",
    "help(fit)"
   ]
  },
  {
   "cell_type": "code",
   "execution_count": 4,
   "id": "f5032354",
   "metadata": {},
   "outputs": [
    {
     "name": "stdout",
     "output_type": "stream",
     "text": [
      "Final Mass: 0.9497928379066933\n",
      "Final Spin: [0.28586015 0.04535385 0.70762916]\n",
      "Final Velocity: [-9.39668527e-05 -2.12472083e-05 -2.87053238e-05]\n"
     ]
    }
   ],
   "source": [
    "q = 1\n",
    "chiA = [0.8,0,0]\n",
    "chiB = [0.8,0,0]\n",
    "mf,chif,vf,_,_,_ = fit.all(1,chiA,chiB)\n",
    "print(f'Final Mass: {mf}')\n",
    "print(f'Final Spin: {chif}')\n",
    "print(f'Final Velocity: {vf}')"
   ]
  },
  {
   "cell_type": "code",
   "execution_count": 5,
   "id": "dbe797ad",
   "metadata": {},
   "outputs": [
    {
     "data": {
      "text/plain": [
       "array([5, 3, 2, 1])"
      ]
     },
     "execution_count": 5,
     "metadata": {},
     "output_type": "execute_result"
    }
   ],
   "source": [
    "np.sort([1,2,5,3])[::-1]"
   ]
  },
  {
   "cell_type": "markdown",
   "id": "56094395",
   "metadata": {},
   "source": [
    "## Turning a PDF into an easy to sample random variable transform\n",
    "#### Inverse transform sampling"
   ]
  },
  {
   "cell_type": "code",
   "execution_count": 7,
   "id": "fea71210",
   "metadata": {},
   "outputs": [
    {
     "data": {
      "image/png": "[encoded data removed]",
      "text/plain": [
       "<Figure size 640x480 with 1 Axes>"
      ]
     },
     "metadata": {
      "image/png": {
       "height": 413,
       "width": 556
      }
     },
     "output_type": "display_data"
    }
   ],
   "source": [
    "import numpy as np\n",
    "from matplotlib import pyplot as plt\n",
    "import sympy\n",
    "\n",
    "m = sympy.Symbol('m')\n",
    "p = sympy.Symbol('p')\n",
    "func = m**(-1.25)\n",
    "norm = sympy.integrate(func, (m, 5, 50))\n",
    "pdf = (1/norm)*m**(-1.25)\n",
    "\n",
    "\n",
    "cdf = sympy.integrate(pdf,(m,5,m))\n",
    "\n",
    "quantile = sympy.solvers.solve(cdf-p,m)\n",
    "\n",
    "#pdf = sympy.lambdify(m,pdf)\n",
    "#cdf = sympy.lambdify(m,cdf)\n",
    "quantile = sympy.lambdify(p,quantile)\n",
    "\n",
    "plt.plot(np.linspace(5,50,1000),pdf(np.linspace(5,50,1000)))\n",
    "\n",
    "u = np.random.random(100000)\n",
    "mdist = quantile(u)\n",
    "plt.hist(mdist,bins=50,density=True)\n",
    "plt.show()"
   ]
  },
  {
   "cell_type": "code",
   "execution_count": 35,
   "id": "8a2c2f0a",
   "metadata": {},
   "outputs": [
    {
     "name": "stdout",
     "output_type": "stream",
     "text": [
      "5.079896318680909\n"
     ]
    }
   ],
   "source": [
    "m = sympy.Symbol('m',positive=True)\n",
    "p = sympy.Symbol('p',positive=True)\n",
    "\n",
    "func = m**(-(1.35))\n",
    "\n",
    "norm = sympy.integrate(func, (m, 5, 50))\n",
    "        \n",
    "pdf = (1/norm)*m**(-(1.35))\n",
    "\n",
    "cdf = sympy.integrate(pdf,(m,5,m))\n",
    "\n",
    "        \n",
    "quantile = sympy.solve(cdf-p,m)\n",
    "try:\n",
    "    quantile = sympy.lambdify(p,quantile[0])\n",
    "except:\n",
    "    quantile = sympy.lambdify(p,quantile)\n",
    "print(quantile(0.01))"
   ]
  },
  {
   "cell_type": "markdown",
   "id": "9a9efcf0",
   "metadata": {},
   "source": [
    "## Black hole object making!"
   ]
  },
  {
   "cell_type": "code",
   "execution_count": 240,
   "id": "932e0a61",
   "metadata": {},
   "outputs": [],
   "source": [
    "import sys\n",
    "sys.path.append('.')\n",
    "from BBH_kick_sim import Simulator"
   ]
  },
  {
   "cell_type": "code",
   "execution_count": 241,
   "id": "b30a14fd",
   "metadata": {
    "scrolled": true
   },
   "outputs": [
    {
     "name": "stdout",
     "output_type": "stream",
     "text": [
      "'min_bh_star' not set, defaulting to 10\n",
      "'bh_mass_frac' not set, defaulting to 0.5\n",
      "'min_star' not set, defaulting to 0.8\n",
      "'max_star' not set, defaulting to 100\n",
      "'vel_thresh' not set, defaulting to 0.1\n",
      "Setting up analytic mass distribution. This may take a while depending on your imf alpha\n",
      "Done\n",
      "Loaded NRSur7dq4Remnant fit.\n",
      "Loaded NRSur3dq8Remnant fit.\n",
      "Setup complete, Globular Cluster now has 14321 black holes.\n"
     ]
    }
   ],
   "source": [
    "params = {'cluster_mass':1e6,'imf_alpha':2.25,'radius':0.5,'rand_spin_type':'zero'}\n",
    "test = Simulator.Simulator(params,print_missing=True)"
   ]
  },
  {
   "cell_type": "code",
   "execution_count": 242,
   "id": "daa17938",
   "metadata": {},
   "outputs": [
    {
     "data": {
      "text/plain": [
       "131.53759421116825"
      ]
     },
     "execution_count": 242,
     "metadata": {},
     "output_type": "execute_result"
    }
   ],
   "source": [
    "test.GC.v_esc"
   ]
  },
  {
   "cell_type": "code",
   "execution_count": 243,
   "id": "03ff8924",
   "metadata": {
    "scrolled": false
   },
   "outputs": [
    {
     "name": "stdout",
     "output_type": "stream",
     "text": [
      "No stop time specified, Running until 1 or 0 black holes remain\n",
      "14321/14321 remaining\n",
      "12991/14321 remaining\n",
      "11672/14321 remaining\n",
      "10371/14321 remaining\n",
      "9073/14321 remaining\n",
      "7814/14321 remaining\n",
      "6545/14321 remaining\n",
      "5271/14321 remaining\n",
      "4032/14321 remaining\n",
      "Large mass ratio encountered: q=7.6658902401915725\n",
      "Large mass ratio encountered: q=8.524491440289877\n",
      "Large mass ratio encountered: q=6.121950157918408\n",
      "Large mass ratio encountered: q=7.9839252886706396\n",
      "Large mass ratio encountered: q=6.212715249961419\n",
      "Large mass ratio encountered: q=6.492958248388144\n",
      "Large mass ratio encountered: q=6.5415082482049804\n",
      "Large mass ratio encountered: q=6.342012154274158\n",
      "Large mass ratio encountered: q=7.622190529263849\n",
      "Large mass ratio encountered: q=7.206750449603203\n",
      "Large mass ratio encountered: q=6.133474365335867\n",
      "Large mass ratio encountered: q=7.806141928757738\n",
      "Large mass ratio encountered: q=6.1566318672192395\n",
      "Large mass ratio encountered: q=6.1213354163082245\n",
      "Large mass ratio encountered: q=7.621705498097833\n",
      "Large mass ratio encountered: q=6.149541043169936\n",
      "Large mass ratio encountered: q=6.5574736597096805\n",
      "Large mass ratio encountered: q=8.181653093691345\n",
      "Large mass ratio encountered: q=6.9678539175305785\n",
      "Large mass ratio encountered: q=6.8206239508230295\n",
      "Large mass ratio encountered: q=6.539019807215387\n",
      "Large mass ratio encountered: q=6.431353731063712\n",
      "Large mass ratio encountered: q=9.011053102356144\n",
      "Large mass ratio encountered: q=7.680549058107386\n",
      "Large mass ratio encountered: q=8.32928729038031\n",
      "Large mass ratio encountered: q=7.848971721517934\n",
      "Large mass ratio encountered: q=8.260796347297266\n",
      "Large mass ratio encountered: q=8.398589263032818\n",
      "Large mass ratio encountered: q=6.446703617809746\n",
      "Large mass ratio encountered: q=8.201502150721444\n",
      "Large mass ratio encountered: q=8.137682445119365\n",
      "Large mass ratio encountered: q=8.205965295100636\n",
      "Large mass ratio encountered: q=6.175447123944322\n",
      "Large mass ratio encountered: q=6.723389031834675\n",
      "Large mass ratio encountered: q=7.581391031601781\n",
      "Large mass ratio encountered: q=7.914336473055465\n",
      "2299/14321 remaining\n",
      "Large mass ratio encountered: q=7.625045005868388\n",
      "Large mass ratio encountered: q=7.028621254743295\n",
      "Large mass ratio encountered: q=8.591367030596764\n",
      "Large mass ratio encountered: q=6.487475894472772\n",
      "Large mass ratio encountered: q=7.682787362384121\n",
      "Large mass ratio encountered: q=6.988912982016027\n",
      "Large mass ratio encountered: q=6.558988236400458\n",
      "Large mass ratio encountered: q=8.422807305712288\n",
      "Large mass ratio encountered: q=8.059862714571555\n",
      "Large mass ratio encountered: q=7.111096845253031\n",
      "Large mass ratio encountered: q=6.06685965436633\n",
      "Large mass ratio encountered: q=6.228963762450229\n",
      "Large mass ratio encountered: q=6.203184023226178\n",
      "Large mass ratio encountered: q=6.069931925999429\n",
      "Large mass ratio encountered: q=6.063958639770485\n",
      "Large mass ratio encountered: q=7.578246489691573\n",
      "Large mass ratio encountered: q=6.047799357854997\n",
      "Large mass ratio encountered: q=7.256325321387141\n",
      "Large mass ratio encountered: q=7.456428544849522\n",
      "Large mass ratio encountered: q=8.772817113221084\n",
      "Large mass ratio encountered: q=6.055392316929478\n",
      "Large mass ratio encountered: q=6.520793381231863\n",
      "Large mass ratio encountered: q=9.073032658194734\n",
      "Large mass ratio encountered: q=6.4515896536231825\n",
      "Large mass ratio encountered: q=6.887687668986314\n",
      "Large mass ratio encountered: q=7.19101530323146\n",
      "Large mass ratio encountered: q=6.2650834042768455\n",
      "Large mass ratio encountered: q=6.186343223997712\n",
      "Large mass ratio encountered: q=6.188339082206204\n",
      "Large mass ratio encountered: q=7.024141349836962\n",
      "Large mass ratio encountered: q=6.586672656929214\n",
      "Large mass ratio encountered: q=6.353457292916559\n",
      "Large mass ratio encountered: q=9.804834412974698\n",
      "Large mass ratio encountered: q=7.221917375526014\n",
      "Large mass ratio encountered: q=9.485468485607804\n",
      "Large mass ratio encountered: q=7.680738549358769\n",
      "Large mass ratio encountered: q=7.881164673850249\n",
      "Large mass ratio encountered: q=7.251875564231954\n",
      "Large mass ratio encountered: q=8.010111451106367\n",
      "Large mass ratio encountered: q=6.119176671187388\n",
      "Large mass ratio encountered: q=7.257615613172058\n",
      "Large mass ratio encountered: q=6.093544401104825\n",
      "Large mass ratio encountered: q=7.107309107225014\n",
      "Large mass ratio encountered: q=6.078640320227498\n",
      "Large mass ratio encountered: q=7.467147218313793\n",
      "Large mass ratio encountered: q=7.471505886429509\n",
      "Large mass ratio encountered: q=7.838931821053638\n",
      "Large mass ratio encountered: q=9.009156902541427\n",
      "301/14321 remaining\n",
      "Large mass ratio encountered: q=7.531756405377061\n",
      "Large mass ratio encountered: q=9.259283865001594\n",
      "Large mass ratio encountered: q=6.31148734644562\n",
      "Large mass ratio encountered: q=7.983575792639213\n",
      "Finished. Total Simulation time: 75.99723772370226\n",
      "Total CPU time: 62.40656805038452\n"
     ]
    }
   ],
   "source": [
    "test.begin_sim()"
   ]
  },
  {
   "cell_type": "code",
   "execution_count": 244,
   "id": "7d073afd",
   "metadata": {},
   "outputs": [
    {
     "name": "stdout",
     "output_type": "stream",
     "text": [
      "1 in system, ejected: 4170\n",
      "4171\n"
     ]
    }
   ],
   "source": [
    "print(len(test.GC.BHs),'in system, ejected:',len(test.GC.ejected))\n",
    "allBHs = test.GC.BHs + test.GC.ejected\n",
    "print(len(allBHs))"
   ]
  },
  {
   "cell_type": "code",
   "execution_count": 245,
   "id": "9a68cbc8",
   "metadata": {},
   "outputs": [
    {
     "name": "stdout",
     "output_type": "stream",
     "text": [
      "[M:63.287,S_mag:0.471,v_mag:0.1,v_imag:0.304,t:75.997,t_i:0,n_parents:2]\n"
     ]
    }
   ],
   "source": [
    "if len(test.GC.BHs)>0:\n",
    "    print(test.GC.BHs[0])\n",
    "else:\n",
    "    print(test.GC.ejected[-1])"
   ]
  },
  {
   "cell_type": "code",
   "execution_count": 246,
   "id": "36258007",
   "metadata": {},
   "outputs": [
    {
     "data": {
      "image/png": "[encoded data removed]",
      "text/plain": [
       "<Figure size 640x480 with 1 Axes>"
      ]
     },
     "metadata": {
      "image/png": {
       "height": 413,
       "width": 552
      }
     },
     "output_type": "display_data"
    }
   ],
   "source": [
    "mall = [bh.m for bh in allBHs]\n",
    "plt.hist(mall,bins='auto')\n",
    "plt.show()"
   ]
  },
  {
   "cell_type": "code",
   "execution_count": 227,
   "id": "c2a4648b",
   "metadata": {},
   "outputs": [
    {
     "name": "stdout",
     "output_type": "stream",
     "text": [
      "171.44758436239005\n",
      "90.27894202338219\n",
      "92.79684014906678\n"
     ]
    }
   ],
   "source": [
    "maxi = np.argmax(mall)\n",
    "print(allBHs[maxi].m)\n",
    "print(allBHs[maxi].parents[0].m)\n",
    "print(allBHs[maxi].parents[1].m)"
   ]
  }
 ],
 "metadata": {
  "kernelspec": {
   "display_name": "Python [conda env:astro8020]",
   "language": "python",
   "name": "conda-env-astro8020-py"
  },
  "language_info": {
   "codemirror_mode": {
    "name": "ipython",
    "version": 3
   },
   "file_extension": ".py",
   "mimetype": "text/x-python",
   "name": "python",
   "nbconvert_exporter": "python",
   "pygments_lexer": "ipython3",
   "version": "3.10.6"
  }
 },
 "nbformat": 4,
 "nbformat_minor": 5
}
